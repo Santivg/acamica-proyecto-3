{
 "cells": [
  {
   "cell_type": "markdown",
   "metadata": {
    "id": "2GRQnxMzISE_"
   },
   "source": [
    "# Proyecto 03 - Procesamiento del Lenguaje Natural\n",
    "\n",
    "## Dataset: The Multilingual Amazon Reviews Corpus\n",
    "\n",
    "**Recuerda descargar el dataset de [aquí](https://github.com/kang205/SASRec). Es un archivo .zip que contiene tres documentos. Más información sobre el dataset [aquí](https://registry.opendata.aws/amazon-reviews-ml/). Es importante que tengas en cuenta la [licencia](https://docs.opendata.aws/amazon-reviews-ml/license.txt) de este dataset.**\n",
    "\n",
    "### Exploración de datos y Procesamiento del Lenguaje Natural\n",
    "\n",
    "Dedícale un buen tiempo a hacer un Análisis Exploratorio de Datos. Considera que hasta que no hayas aplicado las herramientas de Procesamiento del Lenguaje Natural vistas, será difícil completar este análisis. Elige preguntas que creas que puedas responder con este dataset. Por ejemplo, ¿qué palabras están asociadas a calificaciones positivas y qué palabras a calificaciones negativas?\n",
    "\n",
    "### Machine Learning\n",
    "\n",
    "Implementa un modelo que, dada la crítica de un producto, asigne la cantidad de estrellas correspondiente. **Para pensar**: ¿es un problema de Clasificación o de Regresión?\n",
    "\n",
    "1. Haz todas las transformaciones de datos que consideres necesarias. Justifica.\n",
    "1. Evalúa de forma apropiada sus resultados. Justifica la métrica elegida.\n",
    "1. Elige un modelo benchmark y compara tus resultados con este modelo.\n",
    "1. Optimiza los hiperparámetros de tu modelo.\n",
    "1. Intenta responder la pregunta: ¿Qué información está usando el modelo para predecir?\n",
    "\n",
    "**Recomendación:** si no te resulta conveniente trabajar en español con NLTK, te recomendamos que explores la librería [spaCy](https://spacy.io/).\n",
    "\n",
    "### Para pensar, investigar y, opcionalmente, implementar\n",
    "1. ¿Valdrá la pena convertir el problema de Machine Learning en un problema binario? Es decir, asignar únicamente las etiquetas Positiva y Negativa a cada crítica y hacer un modelo que, en lugar de predecir las estrellas, prediga esa etiqueta. Pensar en qué situación puede ser útil. ¿Esperas que el desempeño sea mejor o peor?\n",
    "1. ¿Hay algo que te gustaría investigar o probar?\n",
    "\n",
    "### **¡Tómate tiempo para investigar y leer mucho!**"
   ]
  },
  {
   "cell_type": "code",
   "execution_count": 1,
   "metadata": {
    "execution": {
     "iopub.execute_input": "2021-02-17T22:17:11.599259Z",
     "iopub.status.busy": "2021-02-17T22:17:11.599259Z",
     "iopub.status.idle": "2021-02-17T22:17:13.401871Z",
     "shell.execute_reply": "2021-02-17T22:17:13.401871Z",
     "shell.execute_reply.started": "2021-02-17T22:17:11.599259Z"
    }
   },
   "outputs": [],
   "source": [
    "# Importamos las principales Librerías que utilizaremos para este proyecto\n",
    "import numpy as np                                 # Operaciones matemáticas\n",
    "import pandas as pd                                # Procesamiento de Datos\n",
    "import matplotlib.pyplot as plt                    # Visualización de datos\n",
    "import seaborn as sns                              # Visualización de datos\n",
    "from tqdm.notebook import tqdm"
   ]
  },
  {
   "cell_type": "markdown",
   "metadata": {
    "id": "x1GFwraSISFB"
   },
   "source": [
    "## 1. Leer datos"
   ]
  },
  {
   "cell_type": "code",
   "execution_count": 2,
   "metadata": {
    "execution": {
     "iopub.execute_input": "2021-02-17T22:17:13.403872Z",
     "iopub.status.busy": "2021-02-17T22:17:13.402872Z",
     "iopub.status.idle": "2021-02-17T22:17:14.646361Z",
     "shell.execute_reply": "2021-02-17T22:17:14.646361Z",
     "shell.execute_reply.started": "2021-02-17T22:17:13.403872Z"
    }
   },
   "outputs": [
    {
     "data": {
      "text/html": [
       "<div>\n",
       "<style scoped>\n",
       "    .dataframe tbody tr th:only-of-type {\n",
       "        vertical-align: middle;\n",
       "    }\n",
       "\n",
       "    .dataframe tbody tr th {\n",
       "        vertical-align: top;\n",
       "    }\n",
       "\n",
       "    .dataframe thead th {\n",
       "        text-align: right;\n",
       "    }\n",
       "</style>\n",
       "<table border=\"1\" class=\"dataframe\">\n",
       "  <thead>\n",
       "    <tr style=\"text-align: right;\">\n",
       "      <th></th>\n",
       "      <th>review_id</th>\n",
       "      <th>product_id</th>\n",
       "      <th>reviewer_id</th>\n",
       "      <th>stars</th>\n",
       "      <th>review_body</th>\n",
       "      <th>review_title</th>\n",
       "      <th>language</th>\n",
       "      <th>product_category</th>\n",
       "    </tr>\n",
       "  </thead>\n",
       "  <tbody>\n",
       "    <tr>\n",
       "      <th>0</th>\n",
       "      <td>es_0491108</td>\n",
       "      <td>product_es_0296024</td>\n",
       "      <td>reviewer_es_0999081</td>\n",
       "      <td>1</td>\n",
       "      <td>Nada bueno se me fue ka pantalla en menos de 8...</td>\n",
       "      <td>television Nevir</td>\n",
       "      <td>es</td>\n",
       "      <td>electronics</td>\n",
       "    </tr>\n",
       "    <tr>\n",
       "      <th>1</th>\n",
       "      <td>es_0869872</td>\n",
       "      <td>product_es_0922286</td>\n",
       "      <td>reviewer_es_0216771</td>\n",
       "      <td>1</td>\n",
       "      <td>Horrible, nos tuvimos que comprar otro porque ...</td>\n",
       "      <td>Dinero tirado a la basura con esta compra</td>\n",
       "      <td>es</td>\n",
       "      <td>electronics</td>\n",
       "    </tr>\n",
       "    <tr>\n",
       "      <th>2</th>\n",
       "      <td>es_0811721</td>\n",
       "      <td>product_es_0474543</td>\n",
       "      <td>reviewer_es_0929213</td>\n",
       "      <td>1</td>\n",
       "      <td>Te obligan a comprar dos unidades y te llega s...</td>\n",
       "      <td>solo llega una unidad cuando te obligan a comp...</td>\n",
       "      <td>es</td>\n",
       "      <td>drugstore</td>\n",
       "    </tr>\n",
       "    <tr>\n",
       "      <th>3</th>\n",
       "      <td>es_0359921</td>\n",
       "      <td>product_es_0656090</td>\n",
       "      <td>reviewer_es_0224702</td>\n",
       "      <td>1</td>\n",
       "      <td>No entro en descalificar al vendedor, solo pue...</td>\n",
       "      <td>PRODUCTO NO RECIBIDO.</td>\n",
       "      <td>es</td>\n",
       "      <td>wireless</td>\n",
       "    </tr>\n",
       "    <tr>\n",
       "      <th>4</th>\n",
       "      <td>es_0068940</td>\n",
       "      <td>product_es_0662544</td>\n",
       "      <td>reviewer_es_0224827</td>\n",
       "      <td>1</td>\n",
       "      <td>Llega tarde y co la talla equivocada</td>\n",
       "      <td>Devuelto</td>\n",
       "      <td>es</td>\n",
       "      <td>shoes</td>\n",
       "    </tr>\n",
       "    <tr>\n",
       "      <th>...</th>\n",
       "      <td>...</td>\n",
       "      <td>...</td>\n",
       "      <td>...</td>\n",
       "      <td>...</td>\n",
       "      <td>...</td>\n",
       "      <td>...</td>\n",
       "      <td>...</td>\n",
       "      <td>...</td>\n",
       "    </tr>\n",
       "    <tr>\n",
       "      <th>199995</th>\n",
       "      <td>es_0715276</td>\n",
       "      <td>product_es_0317036</td>\n",
       "      <td>reviewer_es_0643604</td>\n",
       "      <td>5</td>\n",
       "      <td>Mando funciona perfectamente y cumple con toda...</td>\n",
       "      <td>Tal y como se describe</td>\n",
       "      <td>es</td>\n",
       "      <td>electronics</td>\n",
       "    </tr>\n",
       "    <tr>\n",
       "      <th>199996</th>\n",
       "      <td>es_0085190</td>\n",
       "      <td>product_es_0622919</td>\n",
       "      <td>reviewer_es_0466173</td>\n",
       "      <td>5</td>\n",
       "      <td>Compré la batería con cierta reticencia, pero ...</td>\n",
       "      <td>Funciona perfectamente</td>\n",
       "      <td>es</td>\n",
       "      <td>electronics</td>\n",
       "    </tr>\n",
       "    <tr>\n",
       "      <th>199997</th>\n",
       "      <td>es_0484496</td>\n",
       "      <td>product_es_0358101</td>\n",
       "      <td>reviewer_es_0330744</td>\n",
       "      <td>5</td>\n",
       "      <td>Buena calidad. Satisfecha con la compra.</td>\n",
       "      <td>Buena calidad.</td>\n",
       "      <td>es</td>\n",
       "      <td>apparel</td>\n",
       "    </tr>\n",
       "    <tr>\n",
       "      <th>199998</th>\n",
       "      <td>es_0930141</td>\n",
       "      <td>product_es_0788855</td>\n",
       "      <td>reviewer_es_0694290</td>\n",
       "      <td>5</td>\n",
       "      <td>Perfecto para el cumple de mi hijo</td>\n",
       "      <td>Recomendado</td>\n",
       "      <td>es</td>\n",
       "      <td>toy</td>\n",
       "    </tr>\n",
       "    <tr>\n",
       "      <th>199999</th>\n",
       "      <td>es_0859809</td>\n",
       "      <td>product_es_0378794</td>\n",
       "      <td>reviewer_es_0141717</td>\n",
       "      <td>5</td>\n",
       "      <td>Súper bien! Las brochas son buenas, no sé meno...</td>\n",
       "      <td>Preciosas</td>\n",
       "      <td>es</td>\n",
       "      <td>home</td>\n",
       "    </tr>\n",
       "  </tbody>\n",
       "</table>\n",
       "<p>200000 rows × 8 columns</p>\n",
       "</div>"
      ],
      "text/plain": [
       "         review_id          product_id          reviewer_id  stars  \\\n",
       "0       es_0491108  product_es_0296024  reviewer_es_0999081      1   \n",
       "1       es_0869872  product_es_0922286  reviewer_es_0216771      1   \n",
       "2       es_0811721  product_es_0474543  reviewer_es_0929213      1   \n",
       "3       es_0359921  product_es_0656090  reviewer_es_0224702      1   \n",
       "4       es_0068940  product_es_0662544  reviewer_es_0224827      1   \n",
       "...            ...                 ...                  ...    ...   \n",
       "199995  es_0715276  product_es_0317036  reviewer_es_0643604      5   \n",
       "199996  es_0085190  product_es_0622919  reviewer_es_0466173      5   \n",
       "199997  es_0484496  product_es_0358101  reviewer_es_0330744      5   \n",
       "199998  es_0930141  product_es_0788855  reviewer_es_0694290      5   \n",
       "199999  es_0859809  product_es_0378794  reviewer_es_0141717      5   \n",
       "\n",
       "                                              review_body  \\\n",
       "0       Nada bueno se me fue ka pantalla en menos de 8...   \n",
       "1       Horrible, nos tuvimos que comprar otro porque ...   \n",
       "2       Te obligan a comprar dos unidades y te llega s...   \n",
       "3       No entro en descalificar al vendedor, solo pue...   \n",
       "4                    Llega tarde y co la talla equivocada   \n",
       "...                                                   ...   \n",
       "199995  Mando funciona perfectamente y cumple con toda...   \n",
       "199996  Compré la batería con cierta reticencia, pero ...   \n",
       "199997           Buena calidad. Satisfecha con la compra.   \n",
       "199998                 Perfecto para el cumple de mi hijo   \n",
       "199999  Súper bien! Las brochas son buenas, no sé meno...   \n",
       "\n",
       "                                             review_title language  \\\n",
       "0                                        television Nevir       es   \n",
       "1               Dinero tirado a la basura con esta compra       es   \n",
       "2       solo llega una unidad cuando te obligan a comp...       es   \n",
       "3                                   PRODUCTO NO RECIBIDO.       es   \n",
       "4                                                Devuelto       es   \n",
       "...                                                   ...      ...   \n",
       "199995                             Tal y como se describe       es   \n",
       "199996                             Funciona perfectamente       es   \n",
       "199997                                     Buena calidad.       es   \n",
       "199998                                        Recomendado       es   \n",
       "199999                                          Preciosas       es   \n",
       "\n",
       "       product_category  \n",
       "0           electronics  \n",
       "1           electronics  \n",
       "2             drugstore  \n",
       "3              wireless  \n",
       "4                 shoes  \n",
       "...                 ...  \n",
       "199995      electronics  \n",
       "199996      electronics  \n",
       "199997          apparel  \n",
       "199998              toy  \n",
       "199999             home  \n",
       "\n",
       "[200000 rows x 8 columns]"
      ]
     },
     "execution_count": 2,
     "metadata": {},
     "output_type": "execute_result"
    }
   ],
   "source": [
    "df_train = pd.read_json('datasets/dataset_es_train.json', lines= True)\n",
    "df_train"
   ]
  },
  {
   "cell_type": "code",
   "execution_count": 3,
   "metadata": {
    "execution": {
     "iopub.execute_input": "2021-02-17T22:17:14.650363Z",
     "iopub.status.busy": "2021-02-17T22:17:14.650363Z",
     "iopub.status.idle": "2021-02-17T22:17:14.725123Z",
     "shell.execute_reply": "2021-02-17T22:17:14.725123Z",
     "shell.execute_reply.started": "2021-02-17T22:17:14.650363Z"
    }
   },
   "outputs": [],
   "source": [
    "df_test = pd.read_json('datasets/dataset_es_test.json', lines= True)\n",
    "df_test = pd.read_json('datasets/dataset_es_test.json', lines= True)"
   ]
  },
  {
   "cell_type": "code",
   "execution_count": 4,
   "metadata": {
    "execution": {
     "iopub.execute_input": "2021-02-17T22:17:14.726124Z",
     "iopub.status.busy": "2021-02-17T22:17:14.726124Z",
     "iopub.status.idle": "2021-02-17T22:17:14.787363Z",
     "shell.execute_reply": "2021-02-17T22:17:14.787363Z",
     "shell.execute_reply.started": "2021-02-17T22:17:14.726124Z"
    }
   },
   "outputs": [
    {
     "data": {
      "text/html": [
       "<div>\n",
       "<style scoped>\n",
       "    .dataframe tbody tr th:only-of-type {\n",
       "        vertical-align: middle;\n",
       "    }\n",
       "\n",
       "    .dataframe tbody tr th {\n",
       "        vertical-align: top;\n",
       "    }\n",
       "\n",
       "    .dataframe thead th {\n",
       "        text-align: right;\n",
       "    }\n",
       "</style>\n",
       "<table border=\"1\" class=\"dataframe\">\n",
       "  <thead>\n",
       "    <tr style=\"text-align: right;\">\n",
       "      <th></th>\n",
       "      <th>review_id</th>\n",
       "      <th>product_id</th>\n",
       "      <th>reviewer_id</th>\n",
       "      <th>stars</th>\n",
       "      <th>review_body</th>\n",
       "      <th>review_title</th>\n",
       "      <th>language</th>\n",
       "      <th>product_category</th>\n",
       "    </tr>\n",
       "  </thead>\n",
       "  <tbody>\n",
       "    <tr>\n",
       "      <th>0</th>\n",
       "      <td>es_0417480</td>\n",
       "      <td>product_es_0873923</td>\n",
       "      <td>reviewer_es_0672978</td>\n",
       "      <td>1</td>\n",
       "      <td>Malisimo, muy grande demasiado aparatoso y mal...</td>\n",
       "      <td>Mala compra</td>\n",
       "      <td>es</td>\n",
       "      <td>wireless</td>\n",
       "    </tr>\n",
       "    <tr>\n",
       "      <th>1</th>\n",
       "      <td>es_0180432</td>\n",
       "      <td>product_es_0713146</td>\n",
       "      <td>reviewer_es_0100858</td>\n",
       "      <td>1</td>\n",
       "      <td>No he recibido el pedido no la devolución</td>\n",
       "      <td>No lo he recibido</td>\n",
       "      <td>es</td>\n",
       "      <td>apparel</td>\n",
       "    </tr>\n",
       "    <tr>\n",
       "      <th>2</th>\n",
       "      <td>es_0144850</td>\n",
       "      <td>product_es_0356874</td>\n",
       "      <td>reviewer_es_0486447</td>\n",
       "      <td>1</td>\n",
       "      <td>Tengo que buscar otro sistema, este no funcion...</td>\n",
       "      <td>Que no aprieta bien en el manillar</td>\n",
       "      <td>es</td>\n",
       "      <td>sports</td>\n",
       "    </tr>\n",
       "    <tr>\n",
       "      <th>3</th>\n",
       "      <td>es_0339629</td>\n",
       "      <td>product_es_0939832</td>\n",
       "      <td>reviewer_es_0894703</td>\n",
       "      <td>1</td>\n",
       "      <td>Utilicé las brocas de menor diámetro y se me d...</td>\n",
       "      <td>Brocas de mantequilla</td>\n",
       "      <td>es</td>\n",
       "      <td>home_improvement</td>\n",
       "    </tr>\n",
       "    <tr>\n",
       "      <th>4</th>\n",
       "      <td>es_0858362</td>\n",
       "      <td>product_es_0489066</td>\n",
       "      <td>reviewer_es_0887663</td>\n",
       "      <td>1</td>\n",
       "      <td>No me gusta su olor a viejo y aspecto malo</td>\n",
       "      <td>No me gusta</td>\n",
       "      <td>es</td>\n",
       "      <td>beauty</td>\n",
       "    </tr>\n",
       "    <tr>\n",
       "      <th>...</th>\n",
       "      <td>...</td>\n",
       "      <td>...</td>\n",
       "      <td>...</td>\n",
       "      <td>...</td>\n",
       "      <td>...</td>\n",
       "      <td>...</td>\n",
       "      <td>...</td>\n",
       "      <td>...</td>\n",
       "    </tr>\n",
       "    <tr>\n",
       "      <th>4995</th>\n",
       "      <td>es_0179515</td>\n",
       "      <td>product_es_0158275</td>\n",
       "      <td>reviewer_es_0273644</td>\n",
       "      <td>5</td>\n",
       "      <td>Me ha encantado la cesta. Ha llegado impecable...</td>\n",
       "      <td>guadalupe</td>\n",
       "      <td>es</td>\n",
       "      <td>home</td>\n",
       "    </tr>\n",
       "    <tr>\n",
       "      <th>4996</th>\n",
       "      <td>es_0894902</td>\n",
       "      <td>product_es_0953259</td>\n",
       "      <td>reviewer_es_0153773</td>\n",
       "      <td>5</td>\n",
       "      <td>Desempeña su función correctamente</td>\n",
       "      <td>calidad precio</td>\n",
       "      <td>es</td>\n",
       "      <td>camera</td>\n",
       "    </tr>\n",
       "    <tr>\n",
       "      <th>4997</th>\n",
       "      <td>es_0760496</td>\n",
       "      <td>product_es_0731995</td>\n",
       "      <td>reviewer_es_0171091</td>\n",
       "      <td>5</td>\n",
       "      <td>Me ha encantado la diadema! Las flores son tal...</td>\n",
       "      <td>Excelente</td>\n",
       "      <td>es</td>\n",
       "      <td>toy</td>\n",
       "    </tr>\n",
       "    <tr>\n",
       "      <th>4998</th>\n",
       "      <td>es_0178380</td>\n",
       "      <td>product_es_0402051</td>\n",
       "      <td>reviewer_es_0686937</td>\n",
       "      <td>5</td>\n",
       "      <td>A mi me gustan mucho las fundas TPU, ya que so...</td>\n",
       "      <td>Genial</td>\n",
       "      <td>es</td>\n",
       "      <td>wireless</td>\n",
       "    </tr>\n",
       "    <tr>\n",
       "      <th>4999</th>\n",
       "      <td>es_0810087</td>\n",
       "      <td>product_es_0684221</td>\n",
       "      <td>reviewer_es_0613091</td>\n",
       "      <td>5</td>\n",
       "      <td>El artículo ha cumplido con las expectativas q...</td>\n",
       "      <td>Buena calidad</td>\n",
       "      <td>es</td>\n",
       "      <td>apparel</td>\n",
       "    </tr>\n",
       "  </tbody>\n",
       "</table>\n",
       "<p>5000 rows × 8 columns</p>\n",
       "</div>"
      ],
      "text/plain": [
       "       review_id          product_id          reviewer_id  stars  \\\n",
       "0     es_0417480  product_es_0873923  reviewer_es_0672978      1   \n",
       "1     es_0180432  product_es_0713146  reviewer_es_0100858      1   \n",
       "2     es_0144850  product_es_0356874  reviewer_es_0486447      1   \n",
       "3     es_0339629  product_es_0939832  reviewer_es_0894703      1   \n",
       "4     es_0858362  product_es_0489066  reviewer_es_0887663      1   \n",
       "...          ...                 ...                  ...    ...   \n",
       "4995  es_0179515  product_es_0158275  reviewer_es_0273644      5   \n",
       "4996  es_0894902  product_es_0953259  reviewer_es_0153773      5   \n",
       "4997  es_0760496  product_es_0731995  reviewer_es_0171091      5   \n",
       "4998  es_0178380  product_es_0402051  reviewer_es_0686937      5   \n",
       "4999  es_0810087  product_es_0684221  reviewer_es_0613091      5   \n",
       "\n",
       "                                            review_body  \\\n",
       "0     Malisimo, muy grande demasiado aparatoso y mal...   \n",
       "1             No he recibido el pedido no la devolución   \n",
       "2     Tengo que buscar otro sistema, este no funcion...   \n",
       "3     Utilicé las brocas de menor diámetro y se me d...   \n",
       "4            No me gusta su olor a viejo y aspecto malo   \n",
       "...                                                 ...   \n",
       "4995  Me ha encantado la cesta. Ha llegado impecable...   \n",
       "4996                 Desempeña su función correctamente   \n",
       "4997  Me ha encantado la diadema! Las flores son tal...   \n",
       "4998  A mi me gustan mucho las fundas TPU, ya que so...   \n",
       "4999  El artículo ha cumplido con las expectativas q...   \n",
       "\n",
       "                            review_title language  product_category  \n",
       "0                            Mala compra       es          wireless  \n",
       "1                      No lo he recibido       es           apparel  \n",
       "2     Que no aprieta bien en el manillar       es            sports  \n",
       "3                  Brocas de mantequilla       es  home_improvement  \n",
       "4                            No me gusta       es            beauty  \n",
       "...                                  ...      ...               ...  \n",
       "4995                           guadalupe       es              home  \n",
       "4996                      calidad precio       es            camera  \n",
       "4997                           Excelente       es               toy  \n",
       "4998                              Genial       es          wireless  \n",
       "4999                       Buena calidad       es           apparel  \n",
       "\n",
       "[5000 rows x 8 columns]"
      ]
     },
     "execution_count": 4,
     "metadata": {},
     "output_type": "execute_result"
    }
   ],
   "source": [
    "df_dev = pd.read_json('datasets/dataset_es_dev.json', lines= True)\n",
    "df_dev"
   ]
  },
  {
   "cell_type": "code",
   "execution_count": 5,
   "metadata": {
    "execution": {
     "iopub.execute_input": "2021-02-17T22:17:14.788364Z",
     "iopub.status.busy": "2021-02-17T22:17:14.788364Z",
     "iopub.status.idle": "2021-02-17T22:17:14.803368Z",
     "shell.execute_reply": "2021-02-17T22:17:14.803368Z",
     "shell.execute_reply.started": "2021-02-17T22:17:14.788364Z"
    }
   },
   "outputs": [
    {
     "data": {
      "text/plain": [
       "['review_id',\n",
       " 'product_id',\n",
       " 'reviewer_id',\n",
       " 'stars',\n",
       " 'review_body',\n",
       " 'review_title',\n",
       " 'language',\n",
       " 'product_category']"
      ]
     },
     "execution_count": 5,
     "metadata": {},
     "output_type": "execute_result"
    }
   ],
   "source": [
    "list(df_train.columns)"
   ]
  },
  {
   "cell_type": "code",
   "execution_count": 6,
   "metadata": {
    "execution": {
     "iopub.execute_input": "2021-02-17T22:17:14.804368Z",
     "iopub.status.busy": "2021-02-17T22:17:14.804368Z",
     "iopub.status.idle": "2021-02-17T22:17:14.818371Z",
     "shell.execute_reply": "2021-02-17T22:17:14.818371Z",
     "shell.execute_reply.started": "2021-02-17T22:17:14.804368Z"
    }
   },
   "outputs": [
    {
     "data": {
      "text/plain": [
       "['review_id',\n",
       " 'product_id',\n",
       " 'reviewer_id',\n",
       " 'stars',\n",
       " 'review_body',\n",
       " 'review_title',\n",
       " 'language',\n",
       " 'product_category']"
      ]
     },
     "execution_count": 6,
     "metadata": {},
     "output_type": "execute_result"
    }
   ],
   "source": [
    "list(df_test.columns)"
   ]
  },
  {
   "cell_type": "code",
   "execution_count": 7,
   "metadata": {
    "execution": {
     "iopub.execute_input": "2021-02-17T22:17:14.819372Z",
     "iopub.status.busy": "2021-02-17T22:17:14.819372Z",
     "iopub.status.idle": "2021-02-17T22:17:14.834374Z",
     "shell.execute_reply": "2021-02-17T22:17:14.834374Z",
     "shell.execute_reply.started": "2021-02-17T22:17:14.819372Z"
    }
   },
   "outputs": [
    {
     "data": {
      "text/plain": [
       "['review_id',\n",
       " 'product_id',\n",
       " 'reviewer_id',\n",
       " 'stars',\n",
       " 'review_body',\n",
       " 'review_title',\n",
       " 'language',\n",
       " 'product_category']"
      ]
     },
     "execution_count": 7,
     "metadata": {},
     "output_type": "execute_result"
    }
   ],
   "source": [
    "list(df_dev.columns)"
   ]
  },
  {
   "cell_type": "markdown",
   "metadata": {},
   "source": [
    "Ejemplo review"
   ]
  },
  {
   "cell_type": "code",
   "execution_count": 8,
   "metadata": {
    "execution": {
     "iopub.execute_input": "2021-02-17T22:17:14.836375Z",
     "iopub.status.busy": "2021-02-17T22:17:14.836375Z",
     "iopub.status.idle": "2021-02-17T22:17:14.850378Z",
     "shell.execute_reply": "2021-02-17T22:17:14.850378Z",
     "shell.execute_reply.started": "2021-02-17T22:17:14.836375Z"
    }
   },
   "outputs": [
    {
     "data": {
      "text/plain": [
       "'Por más que busque, no le encuentro el agujero para meter las chuches. En las instrucciones dice que viene tapada con una pegatina transparente, pero la mia no la tiene.'"
      ]
     },
     "execution_count": 8,
     "metadata": {},
     "output_type": "execute_result"
    }
   ],
   "source": [
    "df_train.iloc[35,4]"
   ]
  },
  {
   "cell_type": "markdown",
   "metadata": {},
   "source": [
    "Valores Nulos"
   ]
  },
  {
   "cell_type": "code",
   "execution_count": 9,
   "metadata": {
    "execution": {
     "iopub.execute_input": "2021-02-17T22:17:14.851379Z",
     "iopub.status.busy": "2021-02-17T22:17:14.851379Z",
     "iopub.status.idle": "2021-02-17T22:17:14.974944Z",
     "shell.execute_reply": "2021-02-17T22:17:14.974944Z",
     "shell.execute_reply.started": "2021-02-17T22:17:14.851379Z"
    }
   },
   "outputs": [
    {
     "data": {
      "text/plain": [
       "review_id           0\n",
       "product_id          0\n",
       "reviewer_id         0\n",
       "stars               0\n",
       "review_body         0\n",
       "review_title        0\n",
       "language            0\n",
       "product_category    0\n",
       "dtype: int64"
      ]
     },
     "execution_count": 9,
     "metadata": {},
     "output_type": "execute_result"
    }
   ],
   "source": [
    "df_train.isna().sum()"
   ]
  },
  {
   "cell_type": "markdown",
   "metadata": {},
   "source": [
    "## 2. Análisis exploratorio"
   ]
  },
  {
   "cell_type": "code",
   "execution_count": 10,
   "metadata": {
    "execution": {
     "iopub.execute_input": "2021-02-17T22:17:14.975945Z",
     "iopub.status.busy": "2021-02-17T22:17:14.975945Z",
     "iopub.status.idle": "2021-02-17T22:17:15.131136Z",
     "shell.execute_reply": "2021-02-17T22:17:15.131136Z",
     "shell.execute_reply.started": "2021-02-17T22:17:14.975945Z"
    }
   },
   "outputs": [
    {
     "name": "stdout",
     "output_type": "stream",
     "text": [
      "200000\n",
      "5000\n",
      "5000\n"
     ]
    }
   ],
   "source": [
    "print(len(df_train.review_id.value_counts()))\n",
    "print(len(df_test.review_id.value_counts()))\n",
    "print(len(df_dev.review_id.value_counts()))"
   ]
  },
  {
   "cell_type": "markdown",
   "metadata": {},
   "source": [
    "`review_id` es un valor único para cada review"
   ]
  },
  {
   "cell_type": "code",
   "execution_count": 11,
   "metadata": {
    "execution": {
     "iopub.execute_input": "2021-02-17T22:17:15.132139Z",
     "iopub.status.busy": "2021-02-17T22:17:15.132139Z",
     "iopub.status.idle": "2021-02-17T22:17:15.256627Z",
     "shell.execute_reply": "2021-02-17T22:17:15.256627Z",
     "shell.execute_reply.started": "2021-02-17T22:17:15.132139Z"
    }
   },
   "outputs": [
    {
     "name": "stdout",
     "output_type": "stream",
     "text": [
      "179076\n",
      "4988\n",
      "4982\n"
     ]
    }
   ],
   "source": [
    "print(len(df_train.reviewer_id.value_counts()))\n",
    "print(len(df_test.reviewer_id.value_counts()))\n",
    "print(len(df_dev.reviewer_id.value_counts()))"
   ]
  },
  {
   "cell_type": "markdown",
   "metadata": {},
   "source": [
    "`reviewer_id` es un valor único para cada reviewer y existen reviewers que califican varios productos"
   ]
  },
  {
   "cell_type": "code",
   "execution_count": 12,
   "metadata": {
    "execution": {
     "iopub.execute_input": "2021-02-17T22:17:15.257628Z",
     "iopub.status.busy": "2021-02-17T22:17:15.257628Z",
     "iopub.status.idle": "2021-02-17T22:17:15.381941Z",
     "shell.execute_reply": "2021-02-17T22:17:15.381941Z",
     "shell.execute_reply.started": "2021-02-17T22:17:15.257628Z"
    }
   },
   "outputs": [
    {
     "name": "stdout",
     "output_type": "stream",
     "text": [
      "150938\n",
      "4959\n",
      "4964\n"
     ]
    }
   ],
   "source": [
    "print(len(df_train.product_id.value_counts()))\n",
    "print(len(df_test.product_id.value_counts()))\n",
    "print(len(df_dev.product_id.value_counts()))"
   ]
  },
  {
   "cell_type": "markdown",
   "metadata": {},
   "source": [
    "`product_id` es un valor unico para cada producto y cada producto puede tener multiples reviews"
   ]
  },
  {
   "cell_type": "code",
   "execution_count": 13,
   "metadata": {
    "execution": {
     "iopub.execute_input": "2021-02-17T22:17:15.382943Z",
     "iopub.status.busy": "2021-02-17T22:17:15.382943Z",
     "iopub.status.idle": "2021-02-17T22:17:15.427946Z",
     "shell.execute_reply": "2021-02-17T22:17:15.427946Z",
     "shell.execute_reply.started": "2021-02-17T22:17:15.382943Z"
    }
   },
   "outputs": [
    {
     "name": "stdout",
     "output_type": "stream",
     "text": [
      "['es']\n",
      "['es']\n",
      "['es']\n"
     ]
    }
   ],
   "source": [
    "print(df_train.language.unique())\n",
    "print(df_test.language.unique())\n",
    "print(df_dev.language.unique())"
   ]
  },
  {
   "cell_type": "markdown",
   "metadata": {
    "execution": {
     "iopub.execute_input": "2021-02-03T21:36:25.722842Z",
     "iopub.status.busy": "2021-02-03T21:36:25.721843Z",
     "iopub.status.idle": "2021-02-03T21:36:25.740847Z",
     "shell.execute_reply": "2021-02-03T21:36:25.739846Z",
     "shell.execute_reply.started": "2021-02-03T21:36:25.722842Z"
    }
   },
   "source": [
    "En todos los datasets en único lenguaje es español"
   ]
  },
  {
   "cell_type": "code",
   "execution_count": 14,
   "metadata": {
    "execution": {
     "iopub.execute_input": "2021-02-17T22:17:15.428946Z",
     "iopub.status.busy": "2021-02-17T22:17:15.428946Z",
     "iopub.status.idle": "2021-02-17T22:17:15.443459Z",
     "shell.execute_reply": "2021-02-17T22:17:15.442950Z",
     "shell.execute_reply.started": "2021-02-17T22:17:15.428946Z"
    }
   },
   "outputs": [
    {
     "name": "stdout",
     "output_type": "stream",
     "text": [
      "[1 2 3 4 5]\n",
      "[1 2 3 4 5]\n",
      "[1 2 3 4 5]\n"
     ]
    }
   ],
   "source": [
    "print(df_train.stars.unique())\n",
    "print(df_test.stars.unique())\n",
    "print(df_dev.stars.unique())"
   ]
  },
  {
   "cell_type": "markdown",
   "metadata": {},
   "source": [
    "`stars` es la valoración del producto y va de 1 a 5 en todos los datasets"
   ]
  },
  {
   "cell_type": "code",
   "execution_count": 15,
   "metadata": {
    "execution": {
     "iopub.execute_input": "2021-02-17T22:17:15.444454Z",
     "iopub.status.busy": "2021-02-17T22:17:15.444454Z",
     "iopub.status.idle": "2021-02-17T22:17:15.552942Z",
     "shell.execute_reply": "2021-02-17T22:17:15.552942Z",
     "shell.execute_reply.started": "2021-02-17T22:17:15.444454Z"
    }
   },
   "outputs": [
    {
     "name": "stdout",
     "output_type": "stream",
     "text": [
      "['electronics' 'drugstore' 'wireless' 'shoes' 'home' 'luggage'\n",
      " 'office_product' 'kitchen' 'pc' 'toy' 'industrial_supplies' 'furniture'\n",
      " 'pet_products' 'sports' 'home_improvement' 'grocery' 'lawn_and_garden'\n",
      " 'beauty' 'other' 'watch' 'automotive' 'book' 'apparel' 'video_games'\n",
      " 'camera' 'baby_product' 'personal_care_appliances' 'jewelry'\n",
      " 'digital_ebook_purchase' 'musical_instruments'] 30\n",
      "['wireless' 'home' 'toy' 'digital_ebook_purchase' 'pc' 'lawn_and_garden'\n",
      " 'sports' 'camera' 'home_improvement' 'apparel' 'automotive' 'drugstore'\n",
      " 'electronics' 'other' 'beauty' 'office_product' 'furniture' 'kitchen'\n",
      " 'shoes' 'video_games' 'personal_care_appliances' 'pet_products' 'book'\n",
      " 'jewelry' 'watch' 'luggage' 'baby_product' 'industrial_supplies'\n",
      " 'musical_instruments' 'grocery'] 30\n",
      "['wireless' 'apparel' 'sports' 'home_improvement' 'beauty' 'home'\n",
      " 'baby_product' 'pc' 'toy' 'book' 'personal_care_appliances' 'kitchen'\n",
      " 'lawn_and_garden' 'pet_products' 'drugstore' 'office_product' 'furniture'\n",
      " 'electronics' 'automotive' 'shoes' 'jewelry' 'luggage' 'camera'\n",
      " 'industrial_supplies' 'other' 'musical_instruments' 'grocery'\n",
      " 'digital_ebook_purchase' 'video_games' 'watch'] 30\n"
     ]
    }
   ],
   "source": [
    "print(df_train.product_category.unique(), len(df_train.product_category.unique()))\n",
    "print(df_test.product_category.unique(), len(df_test.product_category.unique()))\n",
    "print(df_dev.product_category.unique(), len(df_dev.product_category.unique()))"
   ]
  },
  {
   "cell_type": "markdown",
   "metadata": {},
   "source": [
    "En `product_category` hay 30 categorias y estan presentes en los 3 datasets"
   ]
  },
  {
   "cell_type": "code",
   "execution_count": 16,
   "metadata": {
    "execution": {
     "iopub.execute_input": "2021-02-17T22:17:15.553943Z",
     "iopub.status.busy": "2021-02-17T22:17:15.553943Z",
     "iopub.status.idle": "2021-02-17T22:17:16.209963Z",
     "shell.execute_reply": "2021-02-17T22:17:16.209963Z",
     "shell.execute_reply.started": "2021-02-17T22:17:15.553943Z"
    }
   },
   "outputs": [
    {
     "data": {
      "image/png": "[encoded data removed]",
      "text/plain": [
       "<Figure size 576x360 with 1 Axes>"
      ]
     },
     "metadata": {
      "needs_background": "light"
     },
     "output_type": "display_data"
    },
    {
     "data": {
      "image/png": "[encoded data removed]",
      "text/plain": [
       "<Figure size 576x360 with 1 Axes>"
      ]
     },
     "metadata": {
      "needs_background": "light"
     },
     "output_type": "display_data"
    },
    {
     "data": {
      "image/png": "[encoded data removed]",
      "text/plain": [
       "<Figure size 576x360 with 1 Axes>"
      ]
     },
     "metadata": {
      "needs_background": "light"
     },
     "output_type": "display_data"
    }
   ],
   "source": [
    "fig=plt.figure(figsize=(8, 5))\n",
    "sns.countplot(data=df_train, y='stars')\n",
    "plt.title('stars train')\n",
    "plt.savefig('imagenes/stars_train.png', dpi=200)\n",
    "plt.show()\n",
    "\n",
    "fig=plt.figure(figsize=(8, 5))\n",
    "sns.countplot(data=df_test, y='stars')\n",
    "plt.title('stars test')\n",
    "plt.savefig('imagenes/stars_test.png', dpi=200)\n",
    "plt.show()\n",
    "\n",
    "fig=plt.figure(figsize=(8, 5))\n",
    "sns.countplot(data=df_dev, y='stars')\n",
    "plt.title('stars dev')\n",
    "plt.savefig('imagenes/stars_dev.png', dpi=200)\n",
    "plt.show()"
   ]
  },
  {
   "cell_type": "code",
   "execution_count": 17,
   "metadata": {
    "execution": {
     "iopub.execute_input": "2021-02-17T22:17:16.210964Z",
     "iopub.status.busy": "2021-02-17T22:17:16.210964Z",
     "iopub.status.idle": "2021-02-17T22:17:18.248449Z",
     "shell.execute_reply": "2021-02-17T22:17:18.248449Z",
     "shell.execute_reply.started": "2021-02-17T22:17:16.210964Z"
    }
   },
   "outputs": [
    {
     "data": {
      "image/png": "[encoded data removed]",
      "text/plain": [
       "<Figure size 576x360 with 1 Axes>"
      ]
     },
     "metadata": {
      "needs_background": "light"
     },
     "output_type": "display_data"
    },
    {
     "data": {
      "image/png": "[encoded data removed]",
      "text/plain": [
       "<Figure size 576x360 with 1 Axes>"
      ]
     },
     "metadata": {
      "needs_background": "light"
     },
     "output_type": "display_data"
    },
    {
     "data": {
      "image/png": "[encoded data removed]",
      "text/plain": [
       "<Figure size 576x360 with 1 Axes>"
      ]
     },
     "metadata": {
      "needs_background": "light"
     },
     "output_type": "display_data"
    }
   ],
   "source": [
    "fig=plt.figure(figsize=(8, 5))\n",
    "sns.countplot(data=df_train, y='product_category', order = df_train['product_category'].value_counts().index)\n",
    "plt.title('product_category train')\n",
    "plt.savefig('imagenes/product_category_train.png', dpi=200, bbox_inches='tight', pad_inches=0.3)\n",
    "plt.show()\n",
    "\n",
    "fig=plt.figure(figsize=(8, 5))\n",
    "sns.countplot(data=df_test, y='product_category', order = df_train['product_category'].value_counts().index)\n",
    "plt.title('product_category test')\n",
    "plt.savefig('imagenes/product_category_test.png', dpi=200, bbox_inches='tight', pad_inches=0.3)\n",
    "plt.show()\n",
    "\n",
    "fig=plt.figure(figsize=(8, 5))\n",
    "sns.countplot(data=df_dev, y='product_category', order = df_train['product_category'].value_counts().index)\n",
    "plt.title('product_category dev')\n",
    "plt.savefig('imagenes/product_category_dev.png', dpi=200, bbox_inches='tight', pad_inches=0.3)\n",
    "plt.show()"
   ]
  },
  {
   "cell_type": "markdown",
   "metadata": {
    "execution": {
     "iopub.execute_input": "2021-02-03T21:17:33.328374Z",
     "iopub.status.busy": "2021-02-03T21:17:33.327373Z",
     "iopub.status.idle": "2021-02-03T21:17:33.347378Z",
     "shell.execute_reply": "2021-02-03T21:17:33.346378Z",
     "shell.execute_reply.started": "2021-02-03T21:17:33.328374Z"
    }
   },
   "source": [
    "## 3. Procesamiento "
   ]
  },
  {
   "cell_type": "code",
   "execution_count": 20,
   "metadata": {
    "execution": {
     "iopub.execute_input": "2021-02-17T23:11:03.636227Z",
     "iopub.status.busy": "2021-02-17T23:11:03.636227Z",
     "iopub.status.idle": "2021-02-17T23:11:03.921291Z",
     "shell.execute_reply": "2021-02-17T23:11:03.921291Z",
     "shell.execute_reply.started": "2021-02-17T23:11:03.636227Z"
    }
   },
   "outputs": [],
   "source": [
    "import spacy\n",
    "nlp = spacy.load('es_core_news_sm', disable=['parser', 'ner'])"
   ]
  },
  {
   "cell_type": "code",
   "execution_count": 21,
   "metadata": {
    "execution": {
     "iopub.execute_input": "2021-02-17T23:11:07.536227Z",
     "iopub.status.busy": "2021-02-17T23:11:07.536227Z",
     "iopub.status.idle": "2021-02-17T23:11:07.592090Z",
     "shell.execute_reply": "2021-02-17T23:11:07.591089Z",
     "shell.execute_reply.started": "2021-02-17T23:11:07.536227Z"
    }
   },
   "outputs": [],
   "source": [
    "doc=nlp('No tiene agujero para rellenar la piñata')"
   ]
  },
  {
   "cell_type": "code",
   "execution_count": 22,
   "metadata": {
    "execution": {
     "iopub.execute_input": "2021-02-17T23:11:09.641227Z",
     "iopub.status.busy": "2021-02-17T23:11:09.641227Z",
     "iopub.status.idle": "2021-02-17T23:11:09.651230Z",
     "shell.execute_reply": "2021-02-17T23:11:09.651230Z",
     "shell.execute_reply.started": "2021-02-17T23:11:09.641227Z"
    }
   },
   "outputs": [
    {
     "data": {
      "text/plain": [
       "No tiene agujero para rellenar la piñata"
      ]
     },
     "execution_count": 22,
     "metadata": {},
     "output_type": "execute_result"
    }
   ],
   "source": [
    "doc"
   ]
  },
  {
   "cell_type": "code",
   "execution_count": 23,
   "metadata": {
    "execution": {
     "iopub.execute_input": "2021-02-17T23:12:11.410233Z",
     "iopub.status.busy": "2021-02-17T23:12:11.409234Z",
     "iopub.status.idle": "2021-02-17T23:12:11.426236Z",
     "shell.execute_reply": "2021-02-17T23:12:11.426236Z",
     "shell.execute_reply.started": "2021-02-17T23:12:11.409234Z"
    }
   },
   "outputs": [],
   "source": [
    "def lemma(x):\n",
    "    doc=nlp(x)\n",
    "    titular=[token.lemma_ for token in doc]\n",
    "    return titular"
   ]
  },
  {
   "cell_type": "code",
   "execution_count": 30,
   "metadata": {
    "execution": {
     "iopub.execute_input": "2021-02-17T23:18:19.600258Z",
     "iopub.status.busy": "2021-02-17T23:18:19.600258Z",
     "iopub.status.idle": "2021-02-17T23:18:33.410980Z",
     "shell.execute_reply": "2021-02-17T23:18:33.410980Z",
     "shell.execute_reply.started": "2021-02-17T23:18:19.600258Z"
    }
   },
   "outputs": [],
   "source": [
    "df_test['body_lemma']=df_test.review_body.apply(lambda x: lemma(x))"
   ]
  },
  {
   "cell_type": "code",
   "execution_count": 29,
   "metadata": {
    "execution": {
     "iopub.execute_input": "2021-02-17T23:18:18.130486Z",
     "iopub.status.busy": "2021-02-17T23:18:18.130486Z",
     "iopub.status.idle": "2021-02-17T23:18:18.137497Z",
     "shell.execute_reply": "2021-02-17T23:18:18.137497Z",
     "shell.execute_reply.started": "2021-02-17T23:18:18.130486Z"
    }
   },
   "outputs": [],
   "source": [
    "# df_train['body_lemma']=df_train.review_body.apply(lambda x: lemma(x))"
   ]
  },
  {
   "cell_type": "code",
   "execution_count": null,
   "metadata": {
    "execution": {
     "iopub.status.busy": "2021-02-17T23:18:13.333134Z",
     "iopub.status.idle": "2021-02-17T23:18:13.333134Z"
    }
   },
   "outputs": [],
   "source": [
    "df_train"
   ]
  },
  {
   "cell_type": "markdown",
   "metadata": {},
   "source": [
    "### 3.1 Normalizar\n",
    "### 3.2 Lemmatizer\n",
    "### 3.2 Vectorizar"
   ]
  },
  {
   "cell_type": "markdown",
   "metadata": {},
   "source": [
    "## 4. Modelado como Regresión"
   ]
  },
  {
   "cell_type": "markdown",
   "metadata": {},
   "source": [
    "## 5. Modelado como Clasificación"
   ]
  },
  {
   "cell_type": "code",
   "execution_count": null,
   "metadata": {},
   "outputs": [],
   "source": []
  }
 ],
 "metadata": {
  "colab": {
   "collapsed_sections": [],
   "name": "DS_Proyecto_03_NLP.ipynb",
   "provenance": []
  },
  "kernelspec": {
   "display_name": "Python 3",
   "language": "python",
   "name": "python3"
  },
  "language_info": {
   "codemirror_mode": {
    "name": "ipython",
    "version": 3
   },
   "file_extension": ".py",
   "mimetype": "text/x-python",
   "name": "python",
   "nbconvert_exporter": "python",
   "pygments_lexer": "ipython3",
   "version": "3.8.6"
  }
 },
 "nbformat": 4,
 "nbformat_minor": 4
}
